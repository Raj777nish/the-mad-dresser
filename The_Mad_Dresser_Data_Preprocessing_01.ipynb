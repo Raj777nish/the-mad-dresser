{
  "nbformat": 4,
  "nbformat_minor": 0,
  "metadata": {
    "colab": {
      "provenance": [],
      "authorship_tag": "ABX9TyN3i0aogVO3WKv2ohjugqi2",
      "include_colab_link": true
    },
    "kernelspec": {
      "name": "python3",
      "display_name": "Python 3"
    },
    "language_info": {
      "name": "python"
    }
  },
  "cells": [
    {
      "cell_type": "markdown",
      "metadata": {
        "id": "view-in-github",
        "colab_type": "text"
      },
      "source": [
        "<a href=\"https://colab.research.google.com/github/Raj777nish/the-mad-dresser/blob/main/The_Mad_Dresser_Data_Preprocessing_01.ipynb\" target=\"_parent\"><img src=\"https://colab.research.google.com/assets/colab-badge.svg\" alt=\"Open In Colab\"/></a>"
      ]
    },
    {
      "cell_type": "code",
      "execution_count": null,
      "metadata": {
        "id": "B1TLMxzx3QgS"
      },
      "outputs": [],
      "source": [
        "import pandas as pd\n",
        "import numpy as np"
      ]
    },
    {
      "cell_type": "markdown",
      "source": [
        "# Data Preprocessing\n"
      ],
      "metadata": {
        "id": "o4vLlSF5gp8e"
      }
    },
    {
      "cell_type": "code",
      "source": [
        "pd.set_option('display.max_columns', None)\n",
        "df_tmd_looks = pd.read_csv('/content/Customer_selected_tmd_looks.csv')\n",
        "df_pre_shipment = pd.read_csv('/content/Pre-Shipment Questions Dump.csv')\n",
        "df_style = pd.read_csv(\"/content/Style Profile Data.csv\")\n",
        "df_style_missing = pd.read_csv('/content/Style_Profile_missing_data.csv')\n",
        "df_user_with_profile_photo = pd.read_csv('/content/UserWithProfilePhoto.csv')\n",
        "df_export_order_1 = pd.read_csv('/content/export_order_information.csv')\n",
        "df_export_order_2 = pd.read_csv('/content/export_order_information_2.csv')\n",
        "feedback_df = pd.read_csv('/content/feedback.csv')"
      ],
      "metadata": {
        "colab": {
          "base_uri": "https://localhost:8080/"
        },
        "id": "xPoOW06R3eO0",
        "outputId": "0fa655b5-732b-4c69-bb77-af5977a718f3"
      },
      "execution_count": null,
      "outputs": [
        {
          "output_type": "stream",
          "name": "stderr",
          "text": [
            "<ipython-input-45-d83acfea5afb>:4: DtypeWarning: Columns (212,213,214) have mixed types. Specify dtype option on import or set low_memory=False.\n",
            "  df_style = pd.read_csv(\"/content/Style Profile Data.csv\")\n"
          ]
        }
      ]
    },
    {
      "cell_type": "code",
      "source": [
        "# df_export_order = df_export_order_1.merge(df_export_order_2,on='User_Id',how='outer')\n",
        "# df_export_order.shape"
      ],
      "metadata": {
        "id": "Efq_sqT6ISIt"
      },
      "execution_count": null,
      "outputs": []
    },
    {
      "cell_type": "markdown",
      "source": [
        "## 1. Merging all the dataset to form a single DataFrame"
      ],
      "metadata": {
        "id": "TQ5iQ-4egwBz"
      }
    },
    {
      "cell_type": "code",
      "source": [
        "#Below column were present in df_style so dropped them from df_style_missing dataframe\n",
        "df_style_missing.drop([\n",
        "    'UBP - Cleavage 1','UBP - Cleavage 2','UBP - Cleavage 3','UBP - Cleavage 4','UBP - Cleavage 5',\n",
        "    'UBP - Cleavage 6'\n",
        "    ],axis =1, inplace=True)"
      ],
      "metadata": {
        "id": "riC7qi5K4s0e"
      },
      "execution_count": null,
      "outputs": []
    },
    {
      "cell_type": "code",
      "source": [
        "print(f\"shape before merging: ,style : {df_style.shape}, missing_style: {df_style_missing.shape}\")\n",
        "style_final_df = df_style.merge(df_style_missing, on='user_id', how='outer')\n",
        "print(\"shape after merging: \",style_final_df.shape )"
      ],
      "metadata": {
        "colab": {
          "base_uri": "https://localhost:8080/"
        },
        "id": "hAZbAM_S5I-v",
        "outputId": "e47c8130-188c-4267-e119-e0c45d400f3a"
      },
      "execution_count": null,
      "outputs": [
        {
          "output_type": "stream",
          "name": "stdout",
          "text": [
            "shape before merging: ,style : (18887, 268), missing_style: (19152, 26)\n",
            "shape after merging:  (18838, 293)\n"
          ]
        }
      ]
    },
    {
      "cell_type": "code",
      "source": [
        "# df_tmd_looks.rename(columns={'User_Id': 'user_id'}, inplace=True)\n",
        "# feedback_df.rename(columns={'User_Id': 'user_id'}, inplace=True)\n",
        "# df_pre_shipment.rename(columns={'User_Id': 'user_id'}, inplace=True)\n",
        "# df_export_order.rename(columns={'User_Id': 'user_id'}, inplace=True)\n",
        "# df_user_with_profile_photo.rename(columns={'User_Id': 'user_id'}, inplace=True)"
      ],
      "metadata": {
        "id": "uO8OGVX155DF"
      },
      "execution_count": null,
      "outputs": []
    },
    {
      "cell_type": "code",
      "source": [
        "df1 = style_final_df.merge(df_tmd_looks,on='user_id', how='left')\n",
        "df1.shape"
      ],
      "metadata": {
        "colab": {
          "base_uri": "https://localhost:8080/"
        },
        "id": "gUIwT12G6eXW",
        "outputId": "e2ef14eb-84bd-4d11-e978-74d1658be2cd"
      },
      "execution_count": null,
      "outputs": [
        {
          "output_type": "execute_result",
          "data": {
            "text/plain": [
              "(19498, 295)"
            ]
          },
          "metadata": {},
          "execution_count": 20
        }
      ]
    },
    {
      "cell_type": "code",
      "source": [
        "df2 = feedback_df.merge(df1,on='user_id', how='outer')\n",
        "df2.shape"
      ],
      "metadata": {
        "colab": {
          "base_uri": "https://localhost:8080/"
        },
        "id": "XG8Ncq9x6tIa",
        "outputId": "acc296b6-2209-4ef2-b29e-e045cdfdd9c4"
      },
      "execution_count": null,
      "outputs": [
        {
          "output_type": "execute_result",
          "data": {
            "text/plain": [
              "(28932, 327)"
            ]
          },
          "metadata": {},
          "execution_count": 23
        }
      ]
    },
    {
      "cell_type": "code",
      "source": [
        "df3 = df2.merge(df_pre_shipment,on='user_id', how='outer')"
      ],
      "metadata": {
        "id": "f5zGHng17ivn"
      },
      "execution_count": null,
      "outputs": []
    },
    {
      "cell_type": "code",
      "source": [
        "df3.shape"
      ],
      "metadata": {
        "colab": {
          "base_uri": "https://localhost:8080/"
        },
        "id": "xX8KfWV8GRJ7",
        "outputId": "ed9c9665-6b5c-47ed-8b71-ec26187aed85"
      },
      "execution_count": null,
      "outputs": [
        {
          "output_type": "execute_result",
          "data": {
            "text/plain": [
              "(30500, 332)"
            ]
          },
          "metadata": {},
          "execution_count": 31
        }
      ]
    },
    {
      "cell_type": "code",
      "source": [
        "#merged both export order dataframe and then merged it with the final one\n",
        "df4= df3.merge(df_export_order,on='user_id', how='left')\n",
        "df4.shape"
      ],
      "metadata": {
        "colab": {
          "base_uri": "https://localhost:8080/"
        },
        "id": "ZjkR6iMwGS0a",
        "outputId": "40ee1ef9-36a4-4991-c149-5a6bed76e400"
      },
      "execution_count": null,
      "outputs": [
        {
          "output_type": "execute_result",
          "data": {
            "text/plain": [
              "(34046, 385)"
            ]
          },
          "metadata": {},
          "execution_count": 39
        }
      ]
    },
    {
      "cell_type": "code",
      "source": [
        "df5 = df4.merge(df_user_with_profile_photo, on='user_id', how='left')\n",
        "df5.shape"
      ],
      "metadata": {
        "colab": {
          "base_uri": "https://localhost:8080/"
        },
        "id": "bV0UzRC9I9rN",
        "outputId": "5dc96b98-833f-4c66-8b65-35582c7bb429"
      },
      "execution_count": null,
      "outputs": [
        {
          "output_type": "execute_result",
          "data": {
            "text/plain": [
              "(34046, 390)"
            ]
          },
          "metadata": {},
          "execution_count": 43
        }
      ]
    },
    {
      "cell_type": "code",
      "source": [
        "df5.to_csv(\"final_merged_dataframe.csv\", index=False)"
      ],
      "metadata": {
        "id": "A0JXQJXXK7mZ"
      },
      "execution_count": null,
      "outputs": []
    },
    {
      "cell_type": "code",
      "source": [],
      "metadata": {
        "id": "IT3yPCJnOhA8"
      },
      "execution_count": null,
      "outputs": []
    }
  ]
}